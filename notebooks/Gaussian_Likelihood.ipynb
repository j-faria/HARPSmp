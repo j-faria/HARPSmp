{
 "cells": [
  {
   "cell_type": "code",
   "execution_count": 2,
   "metadata": {},
   "outputs": [],
   "source": [
    "from time import time\n",
    "import numpy as np\n",
    "from sympy import *\n",
    "from sympy.stats import *\n",
    "from sympy.stats.crv_types import rv, SingleContinuousDistribution, _value_check"
   ]
  },
  {
   "cell_type": "code",
   "execution_count": 3,
   "metadata": {},
   "outputs": [],
   "source": [
    "init_printing()"
   ]
  },
  {
   "cell_type": "markdown",
   "metadata": {},
   "source": [
    "First, let's create a multivariate normal distribution"
   ]
  },
  {
   "cell_type": "code",
   "execution_count": 4,
   "metadata": {},
   "outputs": [],
   "source": [
    "class MultivariateNormalDistribution(SingleContinuousDistribution):\n",
    "        _argnames = ('μ', 'σ')\n",
    "\n",
    "        def pdf(self, x):\n",
    "            μ, σ = self.μ, self.σ\n",
    "            N = self.σ.shape[0]\n",
    "            return exp(- S.Half * (x - μ).T * (σ.inv()) * (x - μ)) / (sqrt((2*pi)**N * σ.det()))\n",
    "\n",
    "def MultivariateNormal(name, μ, σ):\n",
    "        return rv(name, MultivariateNormalDistribution, (μ, σ))"
   ]
  },
  {
   "cell_type": "markdown",
   "metadata": {},
   "source": [
    "The dimension of the problem (things might start taking too much time for N >~ 5)"
   ]
  },
  {
   "cell_type": "code",
   "execution_count": 5,
   "metadata": {},
   "outputs": [],
   "source": [
    "N = 2"
   ]
  },
  {
   "cell_type": "markdown",
   "metadata": {},
   "source": [
    "Build the row vector of the means"
   ]
  },
  {
   "cell_type": "code",
   "execution_count": 6,
   "metadata": {},
   "outputs": [
    {
     "data": {
      "image/png": "[encoded data removed]",
      "text/latex": [
       "$$\\left[\\begin{matrix}\\mu_{1}\\\\\\mu_{2}\\end{matrix}\\right]$$"
      ],
      "text/plain": [
       "⎡μ₁⎤\n",
       "⎢  ⎥\n",
       "⎣μ₂⎦"
      ]
     },
     "execution_count": 6,
     "metadata": {},
     "output_type": "execute_result"
    }
   ],
   "source": [
    "mus = symbols(' '.join([f'mu{i}' for i in range(1, N+1)]))\n",
    "mu = Matrix(mus)\n",
    "\n",
    "mu"
   ]
  },
  {
   "cell_type": "markdown",
   "metadata": {},
   "source": [
    "Build the NxN covariance matrix"
   ]
  },
  {
   "cell_type": "code",
   "execution_count": 7,
   "metadata": {},
   "outputs": [
    {
     "data": {
      "image/png": "[encoded data removed]",
      "text/latex": [
       "$$\\left[\\begin{matrix}sig_{11} & sig_{12}\\\\sig_{21} & sig_{22}\\end{matrix}\\right]$$"
      ],
      "text/plain": [
       "⎡sig₁₁  sig₁₂⎤\n",
       "⎢            ⎥\n",
       "⎣sig₂₁  sig₂₂⎦"
      ]
     },
     "execution_count": 7,
     "metadata": {},
     "output_type": "execute_result"
    }
   ],
   "source": [
    "sigmas = symbols(' '.join([f'sig{i}{j}' for i in range(1, N+1) for j in range(1, N+1)]))\n",
    "sigmas = np.array(sigmas).reshape(N,N)\n",
    "sigma = Matrix(sigmas)\n",
    "\n",
    "sigma"
   ]
  },
  {
   "cell_type": "markdown",
   "metadata": {},
   "source": [
    "The points where to evaluate the normal density"
   ]
  },
  {
   "cell_type": "code",
   "execution_count": 8,
   "metadata": {},
   "outputs": [
    {
     "data": {
      "image/png": "[encoded data removed]",
      "text/latex": [
       "$$\\left[\\begin{matrix}y_{1}\\\\y_{2}\\end{matrix}\\right]$$"
      ],
      "text/plain": [
       "⎡y₁⎤\n",
       "⎢  ⎥\n",
       "⎣y₂⎦"
      ]
     },
     "execution_count": 8,
     "metadata": {},
     "output_type": "execute_result"
    }
   ],
   "source": [
    "ys = symbols(' '.join([f'y{i}' for i in range(1,N+1)]))\n",
    "y = Matrix(ys)\n",
    "y"
   ]
  },
  {
   "cell_type": "markdown",
   "metadata": {},
   "source": [
    "Build the random variable X"
   ]
  },
  {
   "cell_type": "code",
   "execution_count": 9,
   "metadata": {},
   "outputs": [],
   "source": [
    "X = MultivariateNormal('X', mu, sigma)"
   ]
  },
  {
   "cell_type": "code",
   "execution_count": 10,
   "metadata": {},
   "outputs": [],
   "source": [
    "def loglike_calculated(X, y):\n",
    "    loglike = log(prod(density(X)(y)))\n",
    "    return expand_log(factor_terms(loglike), force=True)\n",
    "\n",
    "def loglike_expected(X, y):\n",
    "    # there are 3 terms\n",
    "    t1 = - S.Half * (y - mu).T * sigma.inv() * (y - mu)\n",
    "    t1 = t1[0,0] # because t1 is a 1x1 Matrix\n",
    "    t1 = factor_terms(t1)\n",
    "    \n",
    "    t2 = - S.Half * log(det(sigma))\n",
    "    \n",
    "    t3 = - Integer(N)/2 * log(2*pi)\n",
    "    t3 = expand_log(t3)\n",
    "    \n",
    "    return t1 + t2 + t3"
   ]
  },
  {
   "cell_type": "markdown",
   "metadata": {},
   "source": [
    "If you really want to see them"
   ]
  },
  {
   "cell_type": "code",
   "execution_count": 11,
   "metadata": {},
   "outputs": [],
   "source": [
    "# loglike_calculated(X, y)"
   ]
  },
  {
   "cell_type": "code",
   "execution_count": 12,
   "metadata": {},
   "outputs": [],
   "source": [
    "# loglike_expected(X, y)"
   ]
  },
  {
   "cell_type": "markdown",
   "metadata": {},
   "source": [
    "Are they the same?"
   ]
  },
  {
   "cell_type": "code",
   "execution_count": 13,
   "metadata": {},
   "outputs": [
    {
     "data": {
      "image/png": "[encoded data removed]",
      "text/latex": [
       "$$0$$"
      ],
      "text/plain": [
       "0"
      ]
     },
     "execution_count": 13,
     "metadata": {},
     "output_type": "execute_result"
    }
   ],
   "source": [
    "loglike_calculated(X, y) - loglike_expected(X, y)"
   ]
  },
  {
   "cell_type": "markdown",
   "metadata": {},
   "source": [
    "How much time does it take?"
   ]
  },
  {
   "cell_type": "code",
   "execution_count": 14,
   "metadata": {},
   "outputs": [
    {
     "name": "stdout",
     "output_type": "stream",
     "text": [
      "113 ms ± 0 ns per loop (mean ± std. dev. of 1 run, 1 loop each)\n"
     ]
    }
   ],
   "source": [
    "%timeit -r 1 -n 1 loglike_calculated(X, y)"
   ]
  },
  {
   "cell_type": "code",
   "execution_count": 15,
   "metadata": {},
   "outputs": [
    {
     "name": "stdout",
     "output_type": "stream",
     "text": [
      "100 ms ± 0 ns per loop (mean ± std. dev. of 1 run, 1 loop each)\n"
     ]
    }
   ],
   "source": [
    "%timeit -r 1 -n 1 loglike_expected(X, y)"
   ]
  }
 ],
 "metadata": {
  "kernelspec": {
   "display_name": "Python 3",
   "language": "python",
   "name": "python3"
  },
  "language_info": {
   "codemirror_mode": {
    "name": "ipython",
    "version": 3
   },
   "file_extension": ".py",
   "mimetype": "text/x-python",
   "name": "python",
   "nbconvert_exporter": "python",
   "pygments_lexer": "ipython3",
   "version": "3.6.7"
  }
 },
 "nbformat": 4,
 "nbformat_minor": 2
}
